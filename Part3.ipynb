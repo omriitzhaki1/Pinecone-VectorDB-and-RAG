{
 "cells": [
  {
   "cell_type": "code",
   "execution_count": 1,
   "id": "dd27c087",
   "metadata": {
    "slideshow": {
     "slide_type": "skip"
    }
   },
   "outputs": [
    {
     "name": "stderr",
     "output_type": "stream",
     "text": [
      "2024-06-28 17:49:22.221320: E external/local_xla/xla/stream_executor/cuda/cuda_dnn.cc:9261] Unable to register cuDNN factory: Attempting to register factory for plugin cuDNN when one has already been registered\n",
      "2024-06-28 17:49:22.221437: E external/local_xla/xla/stream_executor/cuda/cuda_fft.cc:607] Unable to register cuFFT factory: Attempting to register factory for plugin cuFFT when one has already been registered\n",
      "2024-06-28 17:49:23.546731: E external/local_xla/xla/stream_executor/cuda/cuda_blas.cc:1515] Unable to register cuBLAS factory: Attempting to register factory for plugin cuBLAS when one has already been registered\n",
      "2024-06-28 17:49:26.508061: I tensorflow/core/platform/cpu_feature_guard.cc:182] This TensorFlow binary is optimized to use available CPU instructions in performance-critical operations.\n",
      "To enable the following instructions: AVX2 FMA, in other operations, rebuild TensorFlow with the appropriate compiler flags.\n",
      "2024-06-28 17:49:40.473533: W tensorflow/compiler/tf2tensorrt/utils/py_utils.cc:38] TF-TRT Warning: Could not find TensorRT\n"
     ]
    }
   ],
   "source": [
    "from sentence_transformers import SentenceTransformer\n",
    "from datasets import load_dataset\n",
    "from pinecone import Pinecone, ServerlessSpec\n",
    "import os\n",
    "from tqdm import tqdm\n",
    "import cohere\n",
    "import numpy as np\n",
    "import warnings\n",
    "from IPython.display import display\n",
    "warnings.filterwarnings(\"ignore\")"
   ]
  },
  {
   "cell_type": "code",
   "execution_count": 2,
   "id": "33e6f5b3",
   "metadata": {
    "slideshow": {
     "slide_type": "fragment"
    }
   },
   "outputs": [],
   "source": [
    "COHERE_API_KEY = 'your COHERE_API_KEY'",
    "PINECONE_API_KEY = 'your PINECONE_API_KEY'"
   ]
  },
  {
   "cell_type": "code",
   "execution_count": 3,
   "id": "9d558650",
   "metadata": {
    "slideshow": {
     "slide_type": "subslide"
    }
   },
   "outputs": [],
   "source": [
    "from sentence_transformers import SentenceTransformer\n",
    "\n",
    "EMBEDDING_MODEL = 'all-MiniLM-L6-v2'\n",
    "model = SentenceTransformer(EMBEDDING_MODEL)"
   ]
  },
  {
   "cell_type": "code",
   "execution_count": 4,
   "id": "25de8986",
   "metadata": {
    "slideshow": {
     "slide_type": "slide"
    }
   },
   "outputs": [],
   "source": [
    "def load_and_embedd_dataset(\n",
    "        dataset_name: str = 'cnn_dailymail',\n",
    "        split: str = 'train',\n",
    "        model: SentenceTransformer = SentenceTransformer('all-MiniLM-L6-v2'),\n",
    "        text_field: str = 'text',\n",
    "        rec_num: int = 400\n",
    ") -> tuple:\n",
    "    \"\"\"\n",
    "    Load a dataset and embedd the text field using a sentence-transformer model\n",
    "    Args:\n",
    "        dataset_name: The name of the dataset to load\n",
    "        split: The split of the dataset to load\n",
    "        model: The model to use for embedding\n",
    "        text_field: The field in the dataset that contains the text\n",
    "        rec_num: The number of records to load and embedd\n",
    "    Returns:\n",
    "        tuple: A tuple containing the dataset and the embeddings\n",
    "    \"\"\"\n",
    "    from datasets import load_dataset\n",
    "    \n",
    "    print(\"Loading and embedding the dataset\")\n",
    "    \n",
    "    # Load the dataset\n",
    "    dataset = load_dataset(dataset_name, 'default', split=split)\n",
    "    \n",
    "    # Embed the first `rec_num` rows of the dataset  \n",
    "    embeddings = model.encode(dataset[text_field][:rec_num])\n",
    "    \n",
    "    print(\"Done!\")\n",
    "    return dataset, embeddings"
   ]
  },
  {
   "cell_type": "code",
   "execution_count": 5,
   "id": "3bff82e2",
   "metadata": {
    "slideshow": {
     "slide_type": "subslide"
    }
   },
   "outputs": [
    {
     "name": "stdout",
     "output_type": "stream",
     "text": [
      "Loading and embedding the dataset\n",
      "Done!\n"
     ]
    }
   ],
   "source": [
    "DATASET_NAME = 'Ateeqq/news-title-generator'\n",
    "\n",
    "dataset, embeddings = load_and_embedd_dataset(\n",
    "    dataset_name=DATASET_NAME,\n",
    "    rec_num=10000,\n",
    "    model=model,\n",
    "    text_field='text'\n",
    ")\n",
    "\n",
    "shape = embeddings.shape"
   ]
  },
  {
   "cell_type": "code",
   "execution_count": 6,
   "id": "ac3f8e6c",
   "metadata": {
    "slideshow": {
     "slide_type": "fragment"
    }
   },
   "outputs": [
    {
     "data": {
      "text/html": [
       "<div>\n",
       "<style scoped>\n",
       "    .dataframe tbody tr th:only-of-type {\n",
       "        vertical-align: middle;\n",
       "    }\n",
       "\n",
       "    .dataframe tbody tr th {\n",
       "        vertical-align: top;\n",
       "    }\n",
       "\n",
       "    .dataframe thead th {\n",
       "        text-align: right;\n",
       "    }\n",
       "</style>\n",
       "<table border=\"1\" class=\"dataframe\">\n",
       "  <thead>\n",
       "    <tr style=\"text-align: right;\">\n",
       "      <th></th>\n",
       "      <th>summary</th>\n",
       "      <th>text</th>\n",
       "    </tr>\n",
       "  </thead>\n",
       "  <tbody>\n",
       "    <tr>\n",
       "      <th>0</th>\n",
       "      <td>upGrad learner switches to career in ML &amp; Al w...</td>\n",
       "      <td>Saurav Kant, an alumnus of upGrad and IIIT-B's...</td>\n",
       "    </tr>\n",
       "    <tr>\n",
       "      <th>1</th>\n",
       "      <td>Delhi techie wins free food from Swiggy for on...</td>\n",
       "      <td>Kunal Shah's credit card bill payment platform...</td>\n",
       "    </tr>\n",
       "    <tr>\n",
       "      <th>2</th>\n",
       "      <td>New Zealand end Rohit Sharma-led India's 12-ma...</td>\n",
       "      <td>New Zealand defeated India by 8 wickets in the...</td>\n",
       "    </tr>\n",
       "    <tr>\n",
       "      <th>3</th>\n",
       "      <td>Aegon life iTerm insurance plan helps customer...</td>\n",
       "      <td>With Aegon Life iTerm Insurance plan, customer...</td>\n",
       "    </tr>\n",
       "    <tr>\n",
       "      <th>4</th>\n",
       "      <td>Have known Hirani for yrs, what if MeToo claim...</td>\n",
       "      <td>Speaking about the sexual harassment allegatio...</td>\n",
       "    </tr>\n",
       "  </tbody>\n",
       "</table>\n",
       "</div>"
      ],
      "text/plain": [
       "                                             summary  \\\n",
       "0  upGrad learner switches to career in ML & Al w...   \n",
       "1  Delhi techie wins free food from Swiggy for on...   \n",
       "2  New Zealand end Rohit Sharma-led India's 12-ma...   \n",
       "3  Aegon life iTerm insurance plan helps customer...   \n",
       "4  Have known Hirani for yrs, what if MeToo claim...   \n",
       "\n",
       "                                                text  \n",
       "0  Saurav Kant, an alumnus of upGrad and IIIT-B's...  \n",
       "1  Kunal Shah's credit card bill payment platform...  \n",
       "2  New Zealand defeated India by 8 wickets in the...  \n",
       "3  With Aegon Life iTerm Insurance plan, customer...  \n",
       "4  Speaking about the sexual harassment allegatio...  "
      ]
     },
     "execution_count": 6,
     "metadata": {},
     "output_type": "execute_result"
    }
   ],
   "source": [
    "pd_dataset = dataset.to_pandas()\n",
    "pd_dataset.head(5)"
   ]
  },
  {
   "cell_type": "code",
   "execution_count": 7,
   "id": "8f1e83d2",
   "metadata": {
    "slideshow": {
     "slide_type": "fragment"
    }
   },
   "outputs": [
    {
     "name": "stdout",
     "output_type": "stream",
     "text": [
      "The embeddings shape: (10000, 384)\n"
     ]
    }
   ],
   "source": [
    "print(f\"The embeddings shape: {embeddings.shape}\")"
   ]
  },
  {
   "cell_type": "code",
   "execution_count": 8,
   "id": "de149555",
   "metadata": {
    "slideshow": {
     "slide_type": "subslide"
    }
   },
   "outputs": [],
   "source": [
    "def create_pinecone_index(\n",
    "        index_name: str,\n",
    "        dimension: int,\n",
    "        metric: str = 'cosine',\n",
    "):\n",
    "    \"\"\"\n",
    "    Create a pinecone index if it does not exist\n",
    "    Args:\n",
    "        index_name: The name of the index\n",
    "        dimension: The dimension of the index\n",
    "        metric: The metric to use for the index\n",
    "    Returns:\n",
    "        Pinecone: A pinecone object which can later be used for upserting vectors and connecting to VectorDBs\n",
    "    \"\"\"\n",
    "    from pinecone import Pinecone, ServerlessSpec\n",
    "    print(\"Creating a Pinecone index...\")\n",
    "    pc = Pinecone(api_key=PINECONE_API_KEY)\n",
    "    existing_indexes = [index_info[\"name\"] for index_info in pc.list_indexes()]\n",
    "    if index_name not in existing_indexes:\n",
    "        pc.create_index(\n",
    "            name=index_name,\n",
    "            dimension=dimension,\n",
    "            metric=metric,\n",
    "            spec=ServerlessSpec(\n",
    "                cloud=\"aws\",\n",
    "                region=\"us-east-1\"\n",
    "            )\n",
    "        )\n",
    "    print(\"Done!\")\n",
    "    return pc"
   ]
  },
  {
   "cell_type": "code",
   "execution_count": 9,
   "id": "e6e59ce9",
   "metadata": {
    "slideshow": {
     "slide_type": "subslide"
    }
   },
   "outputs": [
    {
     "name": "stdout",
     "output_type": "stream",
     "text": [
      "Creating a Pinecone index...\n",
      "Done!\n"
     ]
    }
   ],
   "source": [
    "INDEX_NAME = 'news-title-generator'\n",
    "\n",
    "# Create the vector database\n",
    "# We are passing the index_name and the size of our embeddings\n",
    "pc = create_pinecone_index(INDEX_NAME, shape[1])"
   ]
  },
  {
   "cell_type": "code",
   "execution_count": 10,
   "id": "f22e0176",
   "metadata": {
    "slideshow": {
     "slide_type": "slide"
    }
   },
   "outputs": [],
   "source": [
    "def upsert_vectors(\n",
    "        index: Pinecone,\n",
    "        embeddings: np.ndarray,\n",
    "        dataset: dict,\n",
    "        text_field: str = 'text',\n",
    "        batch_size: int = 128\n",
    "):\n",
    "    \"\"\"\n",
    "    Upsert vectors to a pinecone index\n",
    "    Args:\n",
    "        index: The pinecone index object\n",
    "        embeddings: The embeddings to upsert\n",
    "        dataset: The dataset containing the metadata\n",
    "        batch_size: The batch size to use for upserting\n",
    "    Returns:\n",
    "        An updated pinecone index\n",
    "    \"\"\"\n",
    "    print(\"Upserting the embeddings to the Pinecone index...\")\n",
    "    shape = embeddings.shape\n",
    "    \n",
    "    ids = [str(i) for i in range(shape[0])]\n",
    "    meta = [{text_field: text} for text in dataset[text_field]]\n",
    "    \n",
    "    # create list of (id, vector, metadata) tuples to be upserted\n",
    "    to_upsert = list(zip(ids, embeddings, meta))\n",
    "\n",
    "    for i in tqdm(range(0, shape[0], batch_size)):\n",
    "        i_end = min(i + batch_size, shape[0])\n",
    "        index.upsert(vectors=to_upsert[i:i_end])\n",
    "    return index\n"
   ]
  },
  {
   "cell_type": "code",
   "execution_count": 11,
   "id": "ee8f4096",
   "metadata": {
    "slideshow": {
     "slide_type": "subslide"
    }
   },
   "outputs": [
    {
     "name": "stdout",
     "output_type": "stream",
     "text": [
      "Upserting the embeddings to the Pinecone index...\n"
     ]
    },
    {
     "name": "stderr",
     "output_type": "stream",
     "text": [
      "100%|██████████| 79/79 [00:26<00:00,  2.95it/s]\n"
     ]
    }
   ],
   "source": [
    "# Upsert the embeddings to the Pinecone index\n",
    "index = pc.Index(INDEX_NAME)\n",
    "index_upserted = upsert_vectors(index, embeddings, dataset)"
   ]
  },
  {
   "cell_type": "code",
   "execution_count": 12,
   "id": "085fe0ef",
   "metadata": {
    "slideshow": {
     "slide_type": "fragment"
    }
   },
   "outputs": [
    {
     "data": {
      "text/plain": [
       "{'dimension': 384,\n",
       " 'index_fullness': 0.0,\n",
       " 'namespaces': {'': {'vector_count': 10000}},\n",
       " 'total_vector_count': 10000}"
      ]
     },
     "execution_count": 12,
     "metadata": {},
     "output_type": "execute_result"
    }
   ],
   "source": [
    "index.describe_index_stats()"
   ]
  },
  {
   "cell_type": "code",
   "execution_count": 13,
   "id": "f59275f9",
   "metadata": {
    "slideshow": {
     "slide_type": "subslide"
    }
   },
   "outputs": [],
   "source": [
    "import cohere"
   ]
  },
  {
   "cell_type": "code",
   "execution_count": 14,
   "id": "bb91e350",
   "metadata": {
    "slideshow": {
     "slide_type": "slide"
    }
   },
   "outputs": [],
   "source": [
    "def augment_prompt(\n",
    "        query: str,\n",
    "        model: SentenceTransformer = SentenceTransformer('all-MiniLM-L6-v2'),\n",
    "        index=None,\n",
    ") -> str:\n",
    "    \"\"\"\n",
    "    Augment the prompt with the top 3 results from the knowledge base\n",
    "    Args:\n",
    "        query: The query to augment\n",
    "        index: The vectorstore object\n",
    "    Returns:\n",
    "        str: The augmented prompt\n",
    "    \"\"\"\n",
    "    results = [float(val) for val in list(model.encode(query))]\n",
    "    \n",
    "    # get top 3 results from knowledge base\n",
    "    query_results = index.query(\n",
    "        vector=results,\n",
    "        top_k=3,\n",
    "        include_values=True,\n",
    "        include_metadata=True\n",
    "    )['matches']\n",
    "    text_matches = [match['metadata']['text'] for match in query_results]\n",
    "    \n",
    "    # get the text from the results\n",
    "    source_knowledge = \"\\n\\n\".join(text_matches)\n",
    "    \n",
    "    # feed into an augmented prompt\n",
    "    augmented_prompt = f\"\"\"Using the contexts below, answer the query.\n",
    "    Contexts:\n",
    "    {source_knowledge}\n",
    "    If the answer is not included in the source knowledge - say that you don't know.\n",
    "    Query: {query}\"\"\"\n",
    "    return augmented_prompt, source_knowledge"
   ]
  },
  {
   "cell_type": "markdown",
   "id": "cd7ddca7",
   "metadata": {},
   "source": [
    "# Example 1"
   ]
  },
  {
   "cell_type": "code",
   "execution_count": 18,
   "id": "4f07e0a7",
   "metadata": {
    "slideshow": {
     "slide_type": "subslide"
    }
   },
   "outputs": [
    {
     "name": "stdout",
     "output_type": "stream",
     "text": [
      "Query: \"What role did Saurav Kant transition to at Tech Mahindra after completing upGrad's program?\"\n",
      "\n"
     ]
    },
    {
     "name": "stdout",
     "output_type": "stream",
     "text": [
      "Answer without using RAG: Saurav Kant transitioned to the role of Senior Software Engineer at Tech Mahindra after completing upGrad's program.\n",
      "\n",
      "Answer using RAG: Saurav Kant transitioned to the role of Data Scientist at Tech Mahindra.\n",
      "\n",
      "Source knowledge:\n",
      "Saurav Kant, an alumnus of upGrad and IIIT-B's PG Program in Machine learning and Artificial Intelligence, was a Sr Systems Engineer at Infosys with almost 5 years of work experience. The program and upGrad's 360-degree career support helped him transition to a Data Scientist at Tech Mahindra with 90% salary hike. upGrad's Online Power Learning has powered 3 lakh+ careers.\n",
      "\n",
      "The Chief Justice of India Ranjan Gogoi, CBI Director Alok Kumar Verma, RBI Governor Shaktikanta Das and Comptroller and Auditor General Rajiv Mehrishi studied at St Stephen's College in New Delhi. All four had pursued degrees in History from the college. NITI Aayog CEO Amitabh Kant also studied at St Stephen's, graduating in Economics.\n",
      "\n",
      "Over the last 2 years with 460+ transitions, UpGrad learners have received salary hikes of up to 230% and recorded overall â¹30 crores+ in salary hikes. UpGrad's 1-1 mentorship, resume building and mock interviews have been instrumental in helping learners transition. Vivek Rastogi transitioned from HR into Data Science at Genpact through UpGrad and IIIT-B's PG Program in Data Science.\n"
     ]
    }
   ],
   "source": [
    "query = \"What role did Saurav Kant transition to at Tech Mahindra after completing upGrad's program?\"\n",
    "print(f'Query: \"{query}\"')\n",
    "print()\n",
    "\n",
    "# Using LLM only\n",
    "co = cohere.Client(api_key=COHERE_API_KEY)\n",
    "response = co.chat(\n",
    "        model='command-r-plus',\n",
    "        message=query,\n",
    "    )\n",
    "print(f'Answer without using RAG: {response.text}')\n",
    "print()\n",
    "\n",
    "# Using RAG and LLM\n",
    "augmented_prompt, source_knowledge = augment_prompt(query, model=model, index=index)\n",
    "response = co.chat(\n",
    "        model='command-r-plus',\n",
    "        message=augmented_prompt,\n",
    "    )\n",
    "print(f'Answer using RAG: {response.text}')\n",
    "print()\n",
    "print(f'Source knowledge:')\n",
    "print(source_knowledge)"
   ]
  },
  {
   "cell_type": "markdown",
   "id": "2ab769ad",
   "metadata": {},
   "source": [
    "# Example 2"
   ]
  },
  {
   "cell_type": "code",
   "execution_count": 19,
   "id": "fb65b04e",
   "metadata": {
    "slideshow": {
     "slide_type": "subslide"
    }
   },
   "outputs": [
    {
     "name": "stdout",
     "output_type": "stream",
     "text": [
      "Query: \"How many consecutive victories did India's ODI team achieve before losing to New Zealand under Rohit Sharma's captaincy?\"\n",
      "\n"
     ]
    },
    {
     "name": "stdout",
     "output_type": "stream",
     "text": [
      "Answer without using RAG: India's ODI team, under the captaincy of Rohit Sharma, achieved a streak of 8 consecutive bilateral ODI series victories before suffering a defeat at the hands of New Zealand in January 2023. This streak began in July 2022 when India defeated England 2-1 in a three-match ODI series. They then went on to win successive ODI series against West Indies, Zimbabwe, New Zealand, Bangladesh, Sri Lanka, and Australia (twice). The streak came to an end when New Zealand defeated India by 5 wickets in the first ODI of the three-match series, with India eventually losing the series 2-1.\n",
      "\n",
      "Answer using RAG: India had 12 consecutive victories in international matches under Rohit Sharma's captaincy before losing to New Zealand in the fourth ODI.\n",
      "\n",
      "Source knowledge:\n",
      "New Zealand defeated India by 8 wickets in the fourth ODI at Hamilton on Thursday to win their first match of the five-match ODI series. India lost an international match under Rohit Sharma's captaincy after 12 consecutive victories dating back to March 2018. The match witnessed India getting all out for 92, their seventh lowest total in ODI cricket history.\n",
      "\n",
      "India defeated New Zealand by 90 runs in the second ODI to register their biggest ODI victory in New Zealand and take a 2-0 lead in the five-match series. India's previous biggest ODI victory in New Zealand had come in March 2009 when they defeated New Zealand by 84 runs in Hamilton. The third ODI will take place on Monday.\n",
      "\n",
      "India defeated New Zealand by 7 wickets in the third ODI today to take an unassailable 3-0 lead in the five-match series. This is the first time since 2009 that India have won an ODI series in New Zealand. Virat Kohli became only the second captain after MS Dhoni to lead India to an ODI series victory in New Zealand. \n"
     ]
    }
   ],
   "source": [
    "query = \"How many consecutive victories did India's ODI team achieve before losing to New Zealand under Rohit Sharma's captaincy?\"\n",
    "print(f'Query: \"{query}\"')\n",
    "print()\n",
    "\n",
    "# Using LLM only\n",
    "co = cohere.Client(api_key=COHERE_API_KEY)\n",
    "response = co.chat(\n",
    "        model='command-r-plus',\n",
    "        message=query,\n",
    "    )\n",
    "print(f'Answer without using RAG: {response.text}')\n",
    "print()\n",
    "\n",
    "# Using RAG and LLM\n",
    "augmented_prompt, source_knowledge = augment_prompt(query, model=model, index=index)\n",
    "response = co.chat(\n",
    "        model='command-r-plus',\n",
    "        message=augmented_prompt,\n",
    "    )\n",
    "print(f'Answer using RAG: {response.text}')\n",
    "print()\n",
    "print(f'Source knowledge:')\n",
    "print(source_knowledge)"
   ]
  },
  {
   "cell_type": "markdown",
   "id": "2829464a",
   "metadata": {},
   "source": [
    "# Example 3"
   ]
  },
  {
   "cell_type": "code",
   "execution_count": 20,
   "id": "9f700701",
   "metadata": {},
   "outputs": [
    {
     "name": "stdout",
     "output_type": "stream",
     "text": [
      "Query: \"How much money did Mumbai's talent tech startup Shortlist raise in a Series A round of funding?\"\n",
      "\n"
     ]
    },
    {
     "name": "stdout",
     "output_type": "stream",
     "text": [
      "Answer without using RAG: Mumbai-based talent tech startup Shortlist raised $3.25 million in a Series A round of funding.\n",
      "\n",
      "Answer using RAG: $2 million.\n",
      "\n",
      "Source knowledge:\n",
      "Mumbai-headquartered talent technology startup Shortlist has raised $2 million in a Series A round of funding. The round was led by Blue Haven Initiative, with participation from Compass Venture Capital, Zephyr Acorn among others. Founded by Simon Desjardins, Paul Breloff and Matt Schnuck, Shortlist screens candidates using predictive chat-based interviews and online competency-based assessments.\n",
      "\n",
      "Edtech startup Byju's has reportedly raised $400 million (over â¹2,890 crore) in funding, which values it at nearly $4 billion, making it India's fourth most valuable startup. The funding was secured from Canadaâs CPP Investment Board, Naspers Ventures, General Atlantic and some existing investors. Started in 2008, Byjuâs counts Chan Zuckerberg Initiative and Sequoia Capital among investors.\n",
      "\n",
      "Pune-based baby products startup FirstCry has raised nearly $150 million in the first tranche of larger funding from Japanese conglomerate SoftBank, regulatory filings revealed. The startup is set to raise over $396 million in two tranches, filings further stated. The entire funding round may reportedly value FirstCry between $975 million and $1.09 billion, potentially turning it into a unicorn.\n"
     ]
    }
   ],
   "source": [
    "query = \"How much money did Mumbai's talent tech startup Shortlist raise in a Series A round of funding?\"\n",
    "print(f'Query: \"{query}\"')\n",
    "print()\n",
    "\n",
    "# Using LLM only\n",
    "co = cohere.Client(api_key=COHERE_API_KEY)\n",
    "response = co.chat(\n",
    "        model='command-r-plus',\n",
    "        message=query,\n",
    "    )\n",
    "print(f'Answer without using RAG: {response.text}')\n",
    "print()\n",
    "\n",
    "# Using RAG and LLM\n",
    "augmented_prompt, source_knowledge = augment_prompt(query, model=model, index=index)\n",
    "response = co.chat(\n",
    "        model='command-r-plus',\n",
    "        message=augmented_prompt,\n",
    "    )\n",
    "print(f'Answer using RAG: {response.text}')\n",
    "print()\n",
    "print(f'Source knowledge:')\n",
    "print(source_knowledge)"
   ]
  },
  {
   "cell_type": "code",
   "execution_count": null,
   "id": "bef5e5f2",
   "metadata": {},
   "outputs": [],
   "source": []
  }
 ],
 "metadata": {
  "celltoolbar": "Slideshow",
  "kernelspec": {
   "display_name": "Python 3 (ipykernel)",
   "language": "python",
   "name": "python3"
  },
  "language_info": {
   "codemirror_mode": {
    "name": "ipython",
    "version": 3
   },
   "file_extension": ".py",
   "mimetype": "text/x-python",
   "name": "python",
   "nbconvert_exporter": "python",
   "pygments_lexer": "ipython3",
   "version": "3.9.18"
  }
 },
 "nbformat": 4,
 "nbformat_minor": 5
}
